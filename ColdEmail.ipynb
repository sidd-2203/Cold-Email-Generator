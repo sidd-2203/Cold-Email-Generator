{
 "cells": [
  {
   "cell_type": "code",
   "execution_count": 2,
   "id": "6fb4b7f5-09da-4695-b7ec-d6df46ae84cd",
   "metadata": {},
   "outputs": [
    {
     "name": "stdin",
     "output_type": "stream",
     "text": [
      "Enter your api key:  ········\n"
     ]
    }
   ],
   "source": [
    "import getpass\n",
    "import os\n",
    "\n",
    "os.environ[\"GROQ_API_KEY\"] = getpass.getpass(\"Enter your api key: \")"
   ]
  },
  {
   "cell_type": "code",
   "execution_count": 3,
   "id": "e018258e-daf1-4bfb-b424-18d5b300c899",
   "metadata": {},
   "outputs": [],
   "source": [
    "from langchain_groq import ChatGroq\n",
    "\n",
    "llm = ChatGroq(\n",
    "    model=\"llama3-70b-8192\",\n",
    "    temperature=0,\n",
    "    max_tokens=None,\n",
    "    timeout=None,\n",
    "    max_retries=2,\n",
    "    # other params...\n",
    ")"
   ]
  },
  {
   "cell_type": "code",
   "execution_count": 4,
   "id": "57bb96ea-6c5b-4d58-8ed7-c9232a277f96",
   "metadata": {},
   "outputs": [
    {
     "name": "stdout",
     "output_type": "stream",
     "text": [
      "content='The last Valorant Championship was the Valorant Champions 2022, which took place from August 31 to September 18, 2022. The winner of the championship was OpTic Gaming! They defeated LOUD in the finals with a score of 4-3, taking home the championship title and the prize of $350,000.' additional_kwargs={} response_metadata={'token_usage': {'completion_tokens': 72, 'prompt_tokens': 18, 'total_tokens': 90, 'completion_time': 0.232101282, 'prompt_time': 0.00117419, 'queue_time': 0.01227453, 'total_time': 0.233275472}, 'model_name': 'llama3-70b-8192', 'system_fingerprint': 'fp_87cbfbbc4d', 'finish_reason': 'stop', 'logprobs': None} id='run-a1d7873c-ed24-4b52-9c33-fbc5d40661a2-0' usage_metadata={'input_tokens': 18, 'output_tokens': 72, 'total_tokens': 90}\n"
     ]
    }
   ],
   "source": [
    "response=llm.invoke('Who won the last valorant championship?')\n",
    "print(response)"
   ]
  },
  {
   "cell_type": "code",
   "execution_count": 5,
   "id": "8c8fb282-64ab-4a2e-adbb-a012b0a58ba3",
   "metadata": {},
   "outputs": [],
   "source": [
    "import chromadb\n",
    "chroma_client = chromadb.Client()"
   ]
  },
  {
   "cell_type": "code",
   "execution_count": 6,
   "id": "e291d1ad-90b5-4638-9444-ad6fb5139b71",
   "metadata": {},
   "outputs": [],
   "source": [
    "collection = chroma_client.create_collection(name=\"my_collection\")"
   ]
  },
  {
   "cell_type": "code",
   "execution_count": 7,
   "id": "05f6f827-fcdc-43ca-aadf-245e723a9e35",
   "metadata": {},
   "outputs": [],
   "source": [
    "collection.add(\n",
    "    documents=[\n",
    "        \"This is a document about New York\",\n",
    "        \"This is a document about Delhi\"\n",
    "    ],\n",
    "    ids=[\"id1\", \"id2\"]\n",
    ")\n"
   ]
  },
  {
   "cell_type": "code",
   "execution_count": 8,
   "id": "83a749e3-2c94-4494-9d01-ddfde0146a87",
   "metadata": {},
   "outputs": [
    {
     "data": {
      "text/plain": [
       "{'ids': ['id1', 'id2'],\n",
       " 'embeddings': None,\n",
       " 'metadatas': [None, None],\n",
       " 'documents': ['This is a document about New York',\n",
       "  'This is a document about Delhi'],\n",
       " 'uris': None,\n",
       " 'data': None,\n",
       " 'included': ['metadatas', 'documents']}"
      ]
     },
     "execution_count": 8,
     "metadata": {},
     "output_type": "execute_result"
    }
   ],
   "source": [
    "all_docs=collection.get()\n",
    "all_docs"
   ]
  },
  {
   "cell_type": "code",
   "execution_count": null,
   "id": "7dbaa4a7-19f0-4057-900c-89674276efae",
   "metadata": {},
   "outputs": [],
   "source": [
    "collection.query(\n",
    "    query_texts=['Query is about India'],\n",
    "    n_results=2\n",
    ")\n"
   ]
  },
  {
   "cell_type": "code",
   "execution_count": 18,
   "id": "b53836c3-6b8c-48f7-81da-7370c489700f",
   "metadata": {},
   "outputs": [],
   "source": [
    "details=collection.get()"
   ]
  },
  {
   "cell_type": "code",
   "execution_count": 19,
   "id": "24cb8eb6-b19d-4035-9878-4a71a2fb5d69",
   "metadata": {},
   "outputs": [],
   "source": [
    "collection.delete(ids=details['ids'])"
   ]
  },
  {
   "cell_type": "code",
   "execution_count": 20,
   "id": "17dfebfd-a1bc-445b-b550-34fbd02933f5",
   "metadata": {},
   "outputs": [
    {
     "data": {
      "text/plain": [
       "{'ids': [],\n",
       " 'embeddings': None,\n",
       " 'metadatas': [],\n",
       " 'documents': [],\n",
       " 'uris': None,\n",
       " 'data': None,\n",
       " 'included': ['metadatas', 'documents']}"
      ]
     },
     "execution_count": 20,
     "metadata": {},
     "output_type": "execute_result"
    }
   ],
   "source": [
    "collection.get()"
   ]
  },
  {
   "cell_type": "code",
   "execution_count": 22,
   "id": "89de0178-9fa4-400a-8400-1a2313364a8a",
   "metadata": {},
   "outputs": [],
   "source": [
    "os.environ['USER_AGENT'] = 'myagent'"
   ]
  },
  {
   "cell_type": "code",
   "execution_count": 32,
   "id": "cd708af8-5f39-4254-af2b-dcf50c0d38e7",
   "metadata": {},
   "outputs": [
    {
     "name": "stdout",
     "output_type": "stream",
     "text": [
      "Software Development Manager, Generative AI, Google Workspace — Google CareersCareersSkip to main contentTeamsLocationsBenefitsJobsStudentsYour careerarrow_drop_downYour career menu ApplicationsProfileSaved jobsJob alertsSign inCareersApplicationsProfileSearch jobsSaved jobsJob alertsTeamsLocationsBenefitsJobsStudentsHelpSend Feedbackjob detailsarrow_backBack to jobs searchJobs search results2,788  jobs matchedCustomer Engineering Manager II, Startups, Google CloudSunnyvale, CA, USA; San Francisco, CA, USAChip Package Signal and Power Integrity EngineerSunnyvale, CA, USACloud Consultant, Application Modernization Edge, Professional ServicesAustin, TX, USA; Atlanta, GA, USA; +2 more; +1 moreSoftware Engineer, Content Safety On Device, Hades PlatformBelo Horizonte, State of Minas Gerais, Brazil; São Paulo, State of São Paulo, BrazilQuantum Error Correction Research Scientist, Quantum AILos Angeles, CA, USA; Goleta, CA, USAAccount Strategist, Engage, Google Customer SolutionsDublin, IrelandSoC Power and Performance Lead, TPU, Google CloudBengaluru, Karnataka, IndiaSoftware Engineering Manager, ChromeWarsaw, PolandIndustry Architect, Health and Human Services, Public SectorReston, VA, USA; United States | Remote eligibleHealth and Home Strategy LeadMountain View, OR, USA; San Francisco, CA, USAGrowth Consultant, AppDev, Google Customer SolutionsNew York, NY, USA; San Francisco, CA, USA; +2 more; +1 moreGoogle Experience Operations ManagerBengaluru, Karnataka, IndiaRegional Delivery Head, Data Analytics, Google Cloud ConsultingSingapore; Tokyo, JapanSenior Analyst, Trust and SafetyAustin, TX, USAStructural FEA Engineer, Pixel WatchNew Taipei, Banqiao District, New Taipei City, TaiwanData Center Facilities Technician, Mechanical and ChillersLas Vegas, NV, USATechnical Program Manager III, Packaging Engineering and Sustainability, Technical InfrastructureAtlanta, GA, USATechnical Program Manager Construction Technology Execution LeadSunnyvale, CA, USA; Boulder, CO, USA; +3 more; +2 moreProgram Manager, Google Cloud Platform Support ExperienceBengaluru, Karnataka, India; Pune, Maharashtra, IndiaProduct Manager, Compute Engine SecurityKirkland, WA, USA; Seattle, WA, USA; +2 more; +1 more1‑20 of 2788navigate_nextFollow Life at Google on More about usAbout usopen_in_newContact usopen_in_newPressopen_in_newRelated InformationInvestor relationsopen_in_newBlogopen_in_newEqual OpportunityGoogle is proud to be an equal opportunity and affirmative action employer. We are committed to building a workforce that is representative of the users we serve, creating a culture of belonging, and providing an equal employment opportunity regardless of race, creed, color, religion, gender, sexual orientation, gender identity/expression, national origin, disability, age, genetic information, veteran status, marital status, pregnancy or related condition (including breastfeeding), expecting or parents-to-be, criminal histories consistent with legal requirements, or any other basis protected by law. See also  Google's EEO Policy, Know your rights: workplace discrimination is illegal, Belonging at Google, and How we hire.More about usexpand_moreRelated informationexpand_moreEqual opportunityexpand_morePrivacyopen_in_newApplicant & Candidate Privacyopen_in_newTermsopen_in_newhelpHelpopen_in_newarrow_backBack to jobs searchSoftware Development Manager, Generative AI, Google Workspaceshare linkCopy linkemailEmail a friendcorporate_fareGoogleplaceNew York, NY, USAbar_chartAdvancedAdvancedExperience owning outcomes and decision making, solving ambiguous problems and influencing stakeholders; deep expertise in domain.Applyshare linkCopy linkemailEmail a friendMinimum qualifications:\n",
      "Bachelor's degree or equivalent practical experience.\n",
      "\n",
      "8 years of experience with software development in one or more programming languages (e.g., Python, C, C++, Java, JavaScript).\n",
      "3 years of experience in a technical leadership role; overseeing strategic projects, with 2 years of experience in a people management, supervision/team leadership role.\n",
      "Experience in Generative AI (Large Language Models, Multi-Modal, Large Vision Models).\n",
      "Experience with machine learning algorithms and tools (e.g., TensorFlow), artificial intelligence, deep learning, natural language processing or other ML discipline.\n",
      "Preferred qualifications:\n",
      "Master’s degree or PhD in Engineering, Computer Science, or a related technical field.\n",
      "\n",
      "3 years of experience working in a complex, matrixed organization.\n",
      "About the jobGoogle's software developers develop the next-generation technologies that change how billions of users connect, explore, and interact with information and one another. Our products need to handle information at massive scale, and extend well beyond web search. We're looking for software developers who bring fresh ideas from all areas, including information retrieval, distributed computing, large-scale system design, networking and data storage, security, artificial intelligence, natural language processing, UI design and mobile; the list goes on and is growing every day. As a software developer, you will work on a specific project critical to Google’s needs with opportunities to switch teams and projects as you and our fast-paced business grow and evolve. We need our software developers to be versatile, display leadership qualities and be enthusiastic to take on new problems across the full-stack as we continue to push technology forward.With your extensive technical expertise you take initiative to independently design and implement new systems, designing, implementing, and testing multiple features with little or no direction from tech lead or manager. You collaborate with key stakeholders to determine future direction of work.\n",
      "The web is what you make of it and our team is helping the world make more of the web. From open-source pros to user-experience extraordinaires, we develop products that help users connect, communicate and collaborate with others. Our consumer products and cloud platforms are giving millions of users at homes, businesses, universities and nonprofits around the world the tools that shape their web experience -- and changing the way they think about computing.The US base salary range for this full-time position is $189,000-$284,000 + bonus + equity + benefits. Our salary ranges are determined by role, level, and location. The range displayed on each job posting reflects the minimum and maximum target for new hire salaries for the position across all US locations. Within the range, individual pay is determined by work location and additional factors, including job-related skills, experience, and relevant education or training. Your recruiter can share more about the specific salary range for your preferred location during the hiring process. Please note that the compensation details listed in US role postings reflect the base salary only, and do not include bonus, equity, or benefits. Learn more about benefits at Google.Responsibilities\n",
      "Set and communicate team priorities that support the broader organization's goals. Align strategy, processes, and decision-making across teams. \n",
      "Set clear expectations with individuals based on their level and role and aligned to the broader organization's goals. Meet regularly with individuals to discuss performance and development and provide feedback and coaching. \n",
      "Develop the mid-term technical vision and roadmap within the scope of your (often multiple) team(s). Evolve the roadmap to meet anticipated future requirements and infrastructure needs. \n",
      "Design, guide and vet systems designs within the scope of the broader area, and write product or system development code to solve ambiguous problems. \n",
      "Review code developed by other developers and provide feedback to ensure best practices (e.g., style guidelines, checking code in, accuracy, testability, and efficiency).\n",
      "Information collected and processed as part of your Google Careers profile, and any job applications you choose to submit is subject to Google's Applicant and Candidate Privacy Policy.Google is proud to be an equal opportunity and affirmative action employer. We are committed to building a workforce that is representative of the users we serve, creating a culture of belonging, and providing an equal employment opportunity regardless of race, creed, color, religion, gender, sexual orientation, gender identity/expression, national origin, disability, age, genetic information, veteran status, marital status, pregnancy or related condition (including breastfeeding), expecting or parents-to-be, criminal histories consistent with legal requirements, or any other basis protected by law. See also  Google's EEO Policy, Know your rights: workplace discrimination is illegal, Belonging at Google, and How we hire.If you have a need that requires accommodation, please let us know by completing our Accommodations for Applicants form.Google is a global company and, in order to facilitate efficient collaboration and communication globally, English proficiency is a requirement for all roles unless stated otherwise in the job posting.To all recruitment agencies: Google does not accept agency resumes. Please do not forward resumes to our jobs alias, Google employees, or any other organization location. Google is not responsible for any fees related to unsolicited resumes.Follow Life at Google on More about usAbout usopen_in_newContact usopen_in_newPressopen_in_newRelated InformationInvestor relationsopen_in_newBlogopen_in_newEqual OpportunityGoogle is proud to be an equal opportunity and affirmative action employer. We are committed to building a workforce that is representative of the users we serve, creating a culture of belonging, and providing an equal employment opportunity regardless of race, creed, color, religion, gender, sexual orientation, gender identity/expression, national origin, disability, age, genetic information, veteran status, marital status, pregnancy or related condition (including breastfeeding), expecting or parents-to-be, criminal histories consistent with legal requirements, or any other basis protected by law. See also  Google's EEO Policy, Know your rights: workplace discrimination is illegal, Belonging at Google, and How we hire.More about usexpand_moreRelated informationexpand_moreEqual opportunityexpand_morePrivacyopen_in_newApplicant & Candidate Privacyopen_in_newTermsopen_in_newhelpHelpopen_in_newFollow Life at Google on More about usAbout usopen_in_newContact usopen_in_newPressopen_in_newRelated InformationInvestor relationsopen_in_newBlogopen_in_newEqual OpportunityGoogle is proud to be an equal opportunity and affirmative action employer. We are committed to building a workforce that is representative of the users we serve, creating a culture of belonging, and providing an equal employment opportunity regardless of race, creed, color, religion, gender, sexual orientation, gender identity/expression, national origin, disability, age, genetic information, veteran status, marital status, pregnancy or related condition (including breastfeeding), expecting or parents-to-be, criminal histories consistent with legal requirements, or any other basis protected by law. See also  Google's EEO Policy, Know your rights: workplace discrimination is illegal, Belonging at Google, and How we hire.More about usexpand_moreRelated informationexpand_moreEqual opportunityexpand_morePrivacyopen_in_newApplicant & Candidate Privacyopen_in_newTermsopen_in_newhelpHelpopen_in_newGoogle appsMain menu\n"
     ]
    }
   ],
   "source": [
    "from langchain_community.document_loaders import WebBaseLoader\n",
    "loader = WebBaseLoader(\"https://www.google.com/about/careers/applications/jobs/results/88533478290662086-software-development-manager-generative-ai-google-workspace\")\n",
    "page_data=loader.load().pop().page_content\n",
    "print(page_data)"
   ]
  },
  {
   "cell_type": "code",
   "execution_count": 37,
   "id": "977fa1a8-96a2-4d5f-b1a7-1ccb1f14aa1b",
   "metadata": {},
   "outputs": [
    {
     "name": "stdout",
     "output_type": "stream",
     "text": [
      "[\n",
      "    {\n",
      "        \"role\": \"Software Development Manager, Generative AI, Google Workspace\",\n",
      "        \"experience\": \"8 years of experience with software development in one or more programming languages, 3 years of experience in a technical leadership role, 2 years of experience in a people management, supervision/team leadership role\",\n",
      "        \"skills\": \"Generative AI, machine learning algorithms and tools, artificial intelligence, deep learning, natural language processing\",\n",
      "        \"description\": \"Set and communicate team priorities that support the broader organization's goals. Align strategy, processes, and decision-making across teams. Develop the mid-term technical vision and roadmap within the scope of your team. Design, guide and vet systems designs within the scope of the broader area, and write product or system development code to solve ambiguous problems.\"\n",
      "    }\n",
      "]\n"
     ]
    }
   ],
   "source": [
    "from langchain_core.prompts import PromptTemplate\n",
    "\n",
    "example_prompt=PromptTemplate.from_template(\n",
    "    \"\"\"\n",
    "    ### SCRAPED TEXT FROM WEBSITE:\n",
    "    {page_data}\n",
    "\n",
    "    ### INSTRUCTION:\n",
    "    The scraped text is from the careers page of a website.\n",
    "    Your job is to extract the job posting and return them in JSON format containing following roles:\n",
    "    `role`,`experience`,`skills` and `description`. \n",
    "    Only return the valid JSON\n",
    "    ### VALID JSON ONLY (NO PREAMBLE): \n",
    "    \"\"\"\n",
    ")\n",
    "\n",
    "chain_extract=example_prompt| llm\n",
    "res=chain_extract.invoke(input={'page_data':page_data})\n",
    "print(res.content)"
   ]
  },
  {
   "cell_type": "code",
   "execution_count": 40,
   "id": "3bfb563b-9ed4-44f1-81cb-003594b06d35",
   "metadata": {},
   "outputs": [
    {
     "data": {
      "text/plain": [
       "str"
      ]
     },
     "execution_count": 40,
     "metadata": {},
     "output_type": "execute_result"
    }
   ],
   "source": [
    "type(res.content)"
   ]
  },
  {
   "cell_type": "code",
   "execution_count": 76,
   "id": "d1f1fd4b-b752-45e8-8d57-8cf904246784",
   "metadata": {},
   "outputs": [
    {
     "data": {
      "text/plain": [
       "[{'role': 'Software Development Manager, Generative AI, Google Workspace',\n",
       "  'experience': '8 years of experience with software development in one or more programming languages, 3 years of experience in a technical leadership role, 2 years of experience in a people management, supervision/team leadership role',\n",
       "  'skills': 'Generative AI, machine learning algorithms and tools, artificial intelligence, deep learning, natural language processing',\n",
       "  'description': \"Set and communicate team priorities that support the broader organization's goals. Align strategy, processes, and decision-making across teams. Develop the mid-term technical vision and roadmap within the scope of your team. Design, guide and vet systems designs within the scope of the broader area, and write product or system development code to solve ambiguous problems.\"}]"
      ]
     },
     "execution_count": 76,
     "metadata": {},
     "output_type": "execute_result"
    }
   ],
   "source": [
    "from langchain_core.output_parsers import JsonOutputParser\n",
    "json_parser=JsonOutputParser()\n",
    "json_res=json_parser.parse(res.content)\n",
    "json_res"
   ]
  },
  {
   "cell_type": "code",
   "execution_count": 78,
   "id": "ab9d3cf4-8238-4ba5-8b19-8cacd357db15",
   "metadata": {},
   "outputs": [],
   "source": [
    "json_res=json_res[0]"
   ]
  },
  {
   "cell_type": "code",
   "execution_count": 79,
   "id": "46b73dde-5282-4212-9f6f-2e308cf46a1e",
   "metadata": {},
   "outputs": [
    {
     "data": {
      "text/plain": [
       "dict"
      ]
     },
     "execution_count": 79,
     "metadata": {},
     "output_type": "execute_result"
    }
   ],
   "source": [
    "type(json_res)"
   ]
  },
  {
   "cell_type": "code",
   "execution_count": 80,
   "id": "f9a1d13f-57a1-4bc1-b914-5bdda8117b0f",
   "metadata": {},
   "outputs": [
    {
     "data": {
      "text/plain": [
       "{'role': 'Software Development Manager, Generative AI, Google Workspace',\n",
       " 'experience': '8 years of experience with software development in one or more programming languages, 3 years of experience in a technical leadership role, 2 years of experience in a people management, supervision/team leadership role',\n",
       " 'skills': 'Generative AI, machine learning algorithms and tools, artificial intelligence, deep learning, natural language processing',\n",
       " 'description': \"Set and communicate team priorities that support the broader organization's goals. Align strategy, processes, and decision-making across teams. Develop the mid-term technical vision and roadmap within the scope of your team. Design, guide and vet systems designs within the scope of the broader area, and write product or system development code to solve ambiguous problems.\"}"
      ]
     },
     "execution_count": 80,
     "metadata": {},
     "output_type": "execute_result"
    }
   ],
   "source": [
    "json_res"
   ]
  },
  {
   "cell_type": "code",
   "execution_count": 46,
   "id": "7095989a-c2f3-4058-a54a-8c6826336f58",
   "metadata": {},
   "outputs": [
    {
     "data": {
      "text/html": [
       "<div>\n",
       "<style scoped>\n",
       "    .dataframe tbody tr th:only-of-type {\n",
       "        vertical-align: middle;\n",
       "    }\n",
       "\n",
       "    .dataframe tbody tr th {\n",
       "        vertical-align: top;\n",
       "    }\n",
       "\n",
       "    .dataframe thead th {\n",
       "        text-align: right;\n",
       "    }\n",
       "</style>\n",
       "<table border=\"1\" class=\"dataframe\">\n",
       "  <thead>\n",
       "    <tr style=\"text-align: right;\">\n",
       "      <th></th>\n",
       "      <th>Techstack</th>\n",
       "      <th>Links</th>\n",
       "    </tr>\n",
       "  </thead>\n",
       "  <tbody>\n",
       "    <tr>\n",
       "      <th>0</th>\n",
       "      <td>React, Node.js, MongoDB</td>\n",
       "      <td>https://example.com/react-portfolio</td>\n",
       "    </tr>\n",
       "    <tr>\n",
       "      <th>1</th>\n",
       "      <td>Angular,.NET, SQL Server</td>\n",
       "      <td>https://example.com/angular-portfolio</td>\n",
       "    </tr>\n",
       "    <tr>\n",
       "      <th>2</th>\n",
       "      <td>Vue.js, Ruby on Rails, PostgreSQL</td>\n",
       "      <td>https://example.com/vue-portfolio</td>\n",
       "    </tr>\n",
       "    <tr>\n",
       "      <th>3</th>\n",
       "      <td>Python, Django, MySQL</td>\n",
       "      <td>https://example.com/python-portfolio</td>\n",
       "    </tr>\n",
       "    <tr>\n",
       "      <th>4</th>\n",
       "      <td>Java, Spring Boot, Oracle</td>\n",
       "      <td>https://example.com/java-portfolio</td>\n",
       "    </tr>\n",
       "    <tr>\n",
       "      <th>5</th>\n",
       "      <td>Flutter, Firebase, GraphQL</td>\n",
       "      <td>https://example.com/flutter-portfolio</td>\n",
       "    </tr>\n",
       "    <tr>\n",
       "      <th>6</th>\n",
       "      <td>WordPress, PHP, MySQL</td>\n",
       "      <td>https://example.com/wordpress-portfolio</td>\n",
       "    </tr>\n",
       "    <tr>\n",
       "      <th>7</th>\n",
       "      <td>Magento, PHP, MySQL</td>\n",
       "      <td>https://example.com/magento-portfolio</td>\n",
       "    </tr>\n",
       "    <tr>\n",
       "      <th>8</th>\n",
       "      <td>React Native, Node.js, MongoDB</td>\n",
       "      <td>https://example.com/react-native-portfolio</td>\n",
       "    </tr>\n",
       "    <tr>\n",
       "      <th>9</th>\n",
       "      <td>iOS, Swift, Core Data</td>\n",
       "      <td>https://example.com/ios-portfolio</td>\n",
       "    </tr>\n",
       "    <tr>\n",
       "      <th>10</th>\n",
       "      <td>Android, Java, Room Persistence</td>\n",
       "      <td>https://example.com/android-portfolio</td>\n",
       "    </tr>\n",
       "    <tr>\n",
       "      <th>11</th>\n",
       "      <td>Kotlin, Android, Firebase</td>\n",
       "      <td>https://example.com/kotlin-android-portfolio</td>\n",
       "    </tr>\n",
       "    <tr>\n",
       "      <th>12</th>\n",
       "      <td>Android TV, Kotlin, Android NDK</td>\n",
       "      <td>https://example.com/android-tv-portfolio</td>\n",
       "    </tr>\n",
       "    <tr>\n",
       "      <th>13</th>\n",
       "      <td>iOS, Swift, ARKit</td>\n",
       "      <td>https://example.com/ios-ar-portfolio</td>\n",
       "    </tr>\n",
       "    <tr>\n",
       "      <th>14</th>\n",
       "      <td>Cross-platform, Xamarin, Azure</td>\n",
       "      <td>https://example.com/xamarin-portfolio</td>\n",
       "    </tr>\n",
       "    <tr>\n",
       "      <th>15</th>\n",
       "      <td>Backend, Kotlin, Spring Boot</td>\n",
       "      <td>https://example.com/kotlin-backend-portfolio</td>\n",
       "    </tr>\n",
       "    <tr>\n",
       "      <th>16</th>\n",
       "      <td>Frontend, TypeScript, Angular</td>\n",
       "      <td>https://example.com/typescript-frontend-portfolio</td>\n",
       "    </tr>\n",
       "    <tr>\n",
       "      <th>17</th>\n",
       "      <td>Full-stack, JavaScript, Express.js</td>\n",
       "      <td>https://example.com/full-stack-js-portfolio</td>\n",
       "    </tr>\n",
       "    <tr>\n",
       "      <th>18</th>\n",
       "      <td>Machine Learning, Python, TensorFlow</td>\n",
       "      <td>https://example.com/ml-python-portfolio</td>\n",
       "    </tr>\n",
       "    <tr>\n",
       "      <th>19</th>\n",
       "      <td>DevOps, Jenkins, Docker</td>\n",
       "      <td>https://example.com/devops-portfolio</td>\n",
       "    </tr>\n",
       "  </tbody>\n",
       "</table>\n",
       "</div>"
      ],
      "text/plain": [
       "                               Techstack  \\\n",
       "0                React, Node.js, MongoDB   \n",
       "1               Angular,.NET, SQL Server   \n",
       "2      Vue.js, Ruby on Rails, PostgreSQL   \n",
       "3                  Python, Django, MySQL   \n",
       "4              Java, Spring Boot, Oracle   \n",
       "5             Flutter, Firebase, GraphQL   \n",
       "6                  WordPress, PHP, MySQL   \n",
       "7                    Magento, PHP, MySQL   \n",
       "8         React Native, Node.js, MongoDB   \n",
       "9                  iOS, Swift, Core Data   \n",
       "10       Android, Java, Room Persistence   \n",
       "11             Kotlin, Android, Firebase   \n",
       "12       Android TV, Kotlin, Android NDK   \n",
       "13                     iOS, Swift, ARKit   \n",
       "14        Cross-platform, Xamarin, Azure   \n",
       "15          Backend, Kotlin, Spring Boot   \n",
       "16         Frontend, TypeScript, Angular   \n",
       "17    Full-stack, JavaScript, Express.js   \n",
       "18  Machine Learning, Python, TensorFlow   \n",
       "19               DevOps, Jenkins, Docker   \n",
       "\n",
       "                                                Links  \n",
       "0                 https://example.com/react-portfolio  \n",
       "1               https://example.com/angular-portfolio  \n",
       "2                   https://example.com/vue-portfolio  \n",
       "3                https://example.com/python-portfolio  \n",
       "4                  https://example.com/java-portfolio  \n",
       "5               https://example.com/flutter-portfolio  \n",
       "6             https://example.com/wordpress-portfolio  \n",
       "7               https://example.com/magento-portfolio  \n",
       "8          https://example.com/react-native-portfolio  \n",
       "9                   https://example.com/ios-portfolio  \n",
       "10              https://example.com/android-portfolio  \n",
       "11       https://example.com/kotlin-android-portfolio  \n",
       "12           https://example.com/android-tv-portfolio  \n",
       "13               https://example.com/ios-ar-portfolio  \n",
       "14              https://example.com/xamarin-portfolio  \n",
       "15       https://example.com/kotlin-backend-portfolio  \n",
       "16  https://example.com/typescript-frontend-portfolio  \n",
       "17        https://example.com/full-stack-js-portfolio  \n",
       "18            https://example.com/ml-python-portfolio  \n",
       "19               https://example.com/devops-portfolio  "
      ]
     },
     "execution_count": 46,
     "metadata": {},
     "output_type": "execute_result"
    }
   ],
   "source": [
    "import pandas as pd\n",
    "df=pd.read_csv('my_portfolio.csv')\n",
    "df"
   ]
  },
  {
   "cell_type": "code",
   "execution_count": 88,
   "id": "de5ae6e2-8c4f-4840-8fd5-0e294fa21884",
   "metadata": {},
   "outputs": [],
   "source": [
    "import chromadb\n",
    "import uuid\n",
    "client=chromadb.PersistentClient('vectorstore')\n",
    "collection=client.get_or_create_collection(name='portfolio')\n",
    "\n",
    "if not collection.count():\n",
    "    for _,row in df.iterrows():\n",
    "        collection.add(documents=row['Techstack'],\n",
    "                       metadatas={'links':row['Links']},\n",
    "                       ids=[str(uuid.uuid4())])"
   ]
  },
  {
   "cell_type": "code",
   "execution_count": 89,
   "id": "216ae5c6-b1a2-476d-8db8-cb523b8044fc",
   "metadata": {},
   "outputs": [
    {
     "name": "stdout",
     "output_type": "stream",
     "text": [
      "{'ids': ['0059927f-2cc5-4e25-b02d-dc2b0f8b177b', '15d340d5-82c7-4a8e-bf53-e96415b79f7e', '4b88590c-6d2c-4bcb-a7dc-65e8ad4cb228', '4d7c026d-693e-4959-9e45-c527e5f9336c', '5a90dffe-e15b-4cf4-b095-d6baeb55fbc4', '5f64fb06-2522-4d4d-8eb9-11b1c98ce9c9', '6ff825c5-95ff-4ee4-b43b-262d047f7640', '735fe5ba-04e6-4de3-b68e-18421c7509c8', '7a1a117d-cf2c-47e2-b2d0-58552d87c110', '7bf6b538-4e95-4b29-b206-c80fda82abf4', '868966e7-154c-4821-8107-63e89c2aaa3f', '9bbb7bb3-1c89-43e7-926c-e3e32c47fe70', '9c465825-1092-437a-9661-0cc9f802747f', 'c9dd12b0-c108-4968-861e-0c9bda83ffc0', 'cfd91a15-a530-45d7-8226-cafe5585951f', 'd0ff565a-791a-4f20-9a6f-00c2f5b54daf', 'f0a2e833-a4d6-4dc9-9b73-5c9c4dc9a847', 'f7d1ce9e-304e-48d1-9e96-8a6b79bf57b0', 'fb18dd6a-e0c1-486c-8c14-c8f9dbcd93cd', 'fe840a81-c9cf-45ff-a4aa-1637cb049718'], 'embeddings': None, 'metadatas': [{'links': 'https://example.com/react-native-portfolio'}, {'links': 'https://example.com/full-stack-js-portfolio'}, {'links': 'https://example.com/kotlin-android-portfolio'}, {'links': 'https://example.com/python-portfolio'}, {'links': 'https://example.com/devops-portfolio'}, {'links': 'https://example.com/flutter-portfolio'}, {'links': 'https://example.com/vue-portfolio'}, {'links': 'https://example.com/android-tv-portfolio'}, {'links': 'https://example.com/typescript-frontend-portfolio'}, {'links': 'https://example.com/kotlin-backend-portfolio'}, {'links': 'https://example.com/ios-ar-portfolio'}, {'links': 'https://example.com/xamarin-portfolio'}, {'links': 'https://example.com/ml-python-portfolio'}, {'links': 'https://example.com/java-portfolio'}, {'links': 'https://example.com/ios-portfolio'}, {'links': 'https://example.com/angular-portfolio'}, {'links': 'https://example.com/wordpress-portfolio'}, {'links': 'https://example.com/react-portfolio'}, {'links': 'https://example.com/android-portfolio'}, {'links': 'https://example.com/magento-portfolio'}], 'documents': ['React Native, Node.js, MongoDB', 'Full-stack, JavaScript, Express.js', 'Kotlin, Android, Firebase', 'Python, Django, MySQL', 'DevOps, Jenkins, Docker', 'Flutter, Firebase, GraphQL', 'Vue.js, Ruby on Rails, PostgreSQL', 'Android TV, Kotlin, Android NDK', 'Frontend, TypeScript, Angular', 'Backend, Kotlin, Spring Boot', 'iOS, Swift, ARKit', 'Cross-platform, Xamarin, Azure', 'Machine Learning, Python, TensorFlow', 'Java, Spring Boot, Oracle', 'iOS, Swift, Core Data', 'Angular,.NET, SQL Server', 'WordPress, PHP, MySQL', 'React, Node.js, MongoDB', 'Android, Java, Room Persistence', 'Magento, PHP, MySQL'], 'uris': None, 'data': None, 'included': ['metadatas', 'documents']}\n"
     ]
    }
   ],
   "source": [
    "data=collection.get()\n",
    "print(data)"
   ]
  },
  {
   "cell_type": "code",
   "execution_count": 90,
   "id": "ce08f298-c189-49a1-afd5-7c42b2c7fc9e",
   "metadata": {},
   "outputs": [],
   "source": [
    "links=collection.query(query_texts=[json_res['skills']],n_results=2)['metadatas']"
   ]
  },
  {
   "cell_type": "code",
   "execution_count": 91,
   "id": "fa1b7ac9-fc2f-4471-a5c9-22f1bfda8251",
   "metadata": {},
   "outputs": [
    {
     "data": {
      "text/plain": [
       "[[{'links': 'https://example.com/ml-python-portfolio'},\n",
       "  {'links': 'https://example.com/ios-ar-portfolio'}]]"
      ]
     },
     "execution_count": 91,
     "metadata": {},
     "output_type": "execute_result"
    }
   ],
   "source": [
    "links"
   ]
  },
  {
   "cell_type": "code",
   "execution_count": 92,
   "id": "6b53b504-8cbe-47fc-b86a-9152aaee3270",
   "metadata": {},
   "outputs": [],
   "source": [
    "job=json_res"
   ]
  },
  {
   "cell_type": "code",
   "execution_count": 93,
   "id": "04e597ef-08e1-4223-9f2e-1f6939a7f66e",
   "metadata": {},
   "outputs": [
    {
     "data": {
      "text/plain": [
       "'Generative AI, machine learning algorithms and tools, artificial intelligence, deep learning, natural language processing'"
      ]
     },
     "execution_count": 93,
     "metadata": {},
     "output_type": "execute_result"
    }
   ],
   "source": [
    "json_res['skills']"
   ]
  },
  {
   "cell_type": "code",
   "execution_count": 94,
   "id": "bb961807-a6e1-4698-a326-0e18f3ebedcc",
   "metadata": {},
   "outputs": [
    {
     "name": "stdout",
     "output_type": "stream",
     "text": [
      "Here is the cold email:\n",
      "\n",
      "Subject: Application for Software Development Manager, Generative AI, Google Workspace\n",
      "\n",
      "Dear Hiring Manager,\n",
      "\n",
      "I'm excited to apply for the Software Development Manager, Generative AI, Google Workspace role at Google. As a final year BTech-MTech (Integrated) Computer Science student at LNMIIT Jaipur, I'm confident that my skills and experience make me a strong fit for this position.\n",
      "\n",
      "With a strong foundation in software development, I've explored various areas, including Android Development, Web Development, and Full Stack Development. Currently, I'm working on the application of Large Language Models (LLMs), which aligns with the requirements of this role. My experience in machine learning algorithms and tools, artificial intelligence, deep learning, and natural language processing will enable me to make significant contributions to the team.\n",
      "\n",
      "As a technical leader, I've had the opportunity to work on multiple projects, including my participation in Google Summer of Code 2023 at NRNB, where I worked under the guidance of a Harvard Professor. This experience has taught me the importance of setting priorities, aligning strategy, and making data-driven decisions. Additionally, my internship at Deloitte, one of the Big Four, has given me hands-on experience in people management and supervision.\n",
      "\n",
      "I'd like to highlight my machine learning portfolio, which showcases my skills in Python: https://example.com/ml-python-portfolio. I'm confident that my skills and experience will enable me to develop the mid-term technical vision and roadmap for the team and design, guide, and vet systems designs within the scope of the broader area.\n",
      "\n",
      "I'm excited about the opportunity to join Google and contribute to the development of innovative solutions using Generative AI. I'm confident that my skills, experience, and passion for AI make me a strong fit for this role.\n",
      "\n",
      "Thank you for considering my application. I look forward to discussing my qualifications further.\n",
      "\n",
      "Best regards,\n",
      "Siddharth\n"
     ]
    }
   ],
   "source": [
    "prompt_email=PromptTemplate.from_template(\n",
    "    '''\n",
    "    ### JOB_DESCRIPTION:\n",
    "    {job_description}\n",
    "    ### INSTRUCTION:\n",
    "    You are Siddharth, a student from final year BTech -MTech(Integrated) Computer Science student at LNMIIT Jaipur college who is well versed\n",
    "    in Android Development, Web Development and even Full stack development and is currently working on use of llms.\n",
    "    During my coding journey you have won various acheievements and been a part of Google Summer of code 2023 at NRNB worked under an Harvard Professor\n",
    "    and also interned at Deloitte which is a big four.\n",
    "    Your job is to write a cold email to the recruiter regarding the job mentioned above in fullfiling their needs.\n",
    "    Also add the most relevant links from the following to showcase the work done by you: {portfolio_links}\n",
    "    Remember you are Siddharth a prefinal student.\n",
    "    DO NOT PROVIDE PREAMBLE\n",
    "    ### EMAIL (NO PREAMBLE):\n",
    "    \n",
    "    '''\n",
    ")\n",
    "email_chain= prompt_email | llm\n",
    "res=email_chain.invoke(input={'job_description':str(job),\"portfolio_links\":links})\n",
    "print(res.content)"
   ]
  },
  {
   "cell_type": "code",
   "execution_count": null,
   "id": "47293d83-5200-47cf-8f91-869a6a37e844",
   "metadata": {},
   "outputs": [],
   "source": []
  },
  {
   "cell_type": "code",
   "execution_count": null,
   "id": "3f0fd7bc-08d4-45ea-816d-eb963a1bdefa",
   "metadata": {},
   "outputs": [],
   "source": []
  },
  {
   "cell_type": "code",
   "execution_count": null,
   "id": "e111b3e6-0104-409e-aa39-695ab2af4408",
   "metadata": {},
   "outputs": [],
   "source": []
  },
  {
   "cell_type": "code",
   "execution_count": null,
   "id": "28869be1-db6c-482a-b634-8ed2eb9b0d3c",
   "metadata": {},
   "outputs": [],
   "source": []
  },
  {
   "cell_type": "code",
   "execution_count": null,
   "id": "30de5b72-5942-4ea2-abf9-d90ddcddca1d",
   "metadata": {},
   "outputs": [],
   "source": []
  },
  {
   "cell_type": "code",
   "execution_count": null,
   "id": "921965c1-5ce2-4597-b402-da6f689254de",
   "metadata": {},
   "outputs": [],
   "source": []
  },
  {
   "cell_type": "code",
   "execution_count": null,
   "id": "ad1b0926-62dc-4d2b-83ca-7d0bde466407",
   "metadata": {},
   "outputs": [],
   "source": []
  },
  {
   "cell_type": "code",
   "execution_count": null,
   "id": "4433a287-0e2b-4063-99f4-727d0888bfa5",
   "metadata": {},
   "outputs": [],
   "source": []
  },
  {
   "cell_type": "code",
   "execution_count": null,
   "id": "b5c53cc4-cd1b-4452-90c1-81629ba33315",
   "metadata": {},
   "outputs": [],
   "source": []
  }
 ],
 "metadata": {
  "kernelspec": {
   "display_name": "Python 3 (ipykernel)",
   "language": "python",
   "name": "python3"
  },
  "language_info": {
   "codemirror_mode": {
    "name": "ipython",
    "version": 3
   },
   "file_extension": ".py",
   "mimetype": "text/x-python",
   "name": "python",
   "nbconvert_exporter": "python",
   "pygments_lexer": "ipython3",
   "version": "3.12.6"
  }
 },
 "nbformat": 4,
 "nbformat_minor": 5
}
